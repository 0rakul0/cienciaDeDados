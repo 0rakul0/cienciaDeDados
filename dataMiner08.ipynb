{
 "cells": [
  {
   "cell_type": "markdown",
   "source": [
    "# Importação das libs"
   ],
   "metadata": {
    "collapsed": false,
    "pycharm": {
     "name": "#%% md\n"
    }
   }
  },
  {
   "cell_type": "code",
   "execution_count": 85,
   "metadata": {
    "collapsed": true,
    "pycharm": {
     "name": "#%%\n"
    }
   },
   "outputs": [],
   "source": [
    "import pandas as pd\n",
    "import openpyxl"
   ]
  },
  {
   "cell_type": "markdown",
   "source": [
    "## Importação dos dataframes"
   ],
   "metadata": {
    "collapsed": false,
    "pycharm": {
     "name": "#%% md\n"
    }
   }
  },
  {
   "cell_type": "code",
   "execution_count": 86,
   "outputs": [],
   "source": [
    "df_excel_estados = pd.read_excel('data/dados_aula1_estados_brasil.xlsx')"
   ],
   "metadata": {
    "collapsed": false,
    "pycharm": {
     "name": "#%%\n"
    }
   }
  },
  {
   "cell_type": "code",
   "execution_count": 87,
   "outputs": [],
   "source": [
    "df_excel_aula = pd.read_csv('data/dados_aula1_pnad.csv', sep=';')"
   ],
   "metadata": {
    "collapsed": false,
    "pycharm": {
     "name": "#%%\n"
    }
   }
  },
  {
   "cell_type": "markdown",
   "source": [
    "## Execução dos dataFrames"
   ],
   "metadata": {
    "collapsed": false,
    "pycharm": {
     "name": "#%% md\n"
    }
   }
  },
  {
   "cell_type": "code",
   "execution_count": 88,
   "outputs": [
    {
     "data": {
      "text/plain": "    IBGE               Estado  UF               Região  Qtd Mun\n0     11             Rondônia  RO         Região Norte       52\n1     12                 Acre  AC         Região Norte       22\n2     13             Amazonas  AM         Região Norte       62\n3     14              Roraima  RR         Região Norte       15\n4     15                 Pará  PA         Região Norte      144\n5     16                Amapá  AP         Região Norte       16\n6     17            Tocantins  TO         Região Norte      139\n7     21             Maranhão  MA      Região Nordeste      217\n8     22                Piauí  PI      Região Nordeste      224\n9     23                Ceará  CE      Região Nordeste      184\n10    24  Rio Grande do Norte  RN      Região Nordeste      167\n11    25              Paraíba  PB      Região Nordeste      223\n12    26           Pernambuco  PE      Região Nordeste      185\n13    27              Alagoas  AL      Região Nordeste      102\n14    28              Sergipe  SE      Região Nordeste       75\n15    29                Bahia  BA      Região Nordeste      417\n16    31         Minas Gerais  MG       Região Sudeste      853\n17    32       Espírito Santo  ES       Região Sudeste       78\n18    33       Rio de Janeiro  RJ       Região Sudeste       92\n19    35            São Paulo  SP       Região Sudeste      645\n20    41               Paraná  PR           Região Sul      399\n21    42       Santa Catarina  SC           Região Sul      295\n22    43    Rio Grande do Sul  RS           Região Sul      497\n23    50   Mato Grosso do Sul  MS  Região Centro-Oeste       79\n24    51          Mato Grosso  MT  Região Centro-Oeste      141\n25    52                Goiás  GO  Região Centro-Oeste      246\n26    53     Distrito Federal  DF  Região Centro-Oeste        1",
      "text/html": "<div>\n<style scoped>\n    .dataframe tbody tr th:only-of-type {\n        vertical-align: middle;\n    }\n\n    .dataframe tbody tr th {\n        vertical-align: top;\n    }\n\n    .dataframe thead th {\n        text-align: right;\n    }\n</style>\n<table border=\"1\" class=\"dataframe\">\n  <thead>\n    <tr style=\"text-align: right;\">\n      <th></th>\n      <th>IBGE</th>\n      <th>Estado</th>\n      <th>UF</th>\n      <th>Região</th>\n      <th>Qtd Mun</th>\n    </tr>\n  </thead>\n  <tbody>\n    <tr>\n      <th>0</th>\n      <td>11</td>\n      <td>Rondônia</td>\n      <td>RO</td>\n      <td>Região Norte</td>\n      <td>52</td>\n    </tr>\n    <tr>\n      <th>1</th>\n      <td>12</td>\n      <td>Acre</td>\n      <td>AC</td>\n      <td>Região Norte</td>\n      <td>22</td>\n    </tr>\n    <tr>\n      <th>2</th>\n      <td>13</td>\n      <td>Amazonas</td>\n      <td>AM</td>\n      <td>Região Norte</td>\n      <td>62</td>\n    </tr>\n    <tr>\n      <th>3</th>\n      <td>14</td>\n      <td>Roraima</td>\n      <td>RR</td>\n      <td>Região Norte</td>\n      <td>15</td>\n    </tr>\n    <tr>\n      <th>4</th>\n      <td>15</td>\n      <td>Pará</td>\n      <td>PA</td>\n      <td>Região Norte</td>\n      <td>144</td>\n    </tr>\n    <tr>\n      <th>5</th>\n      <td>16</td>\n      <td>Amapá</td>\n      <td>AP</td>\n      <td>Região Norte</td>\n      <td>16</td>\n    </tr>\n    <tr>\n      <th>6</th>\n      <td>17</td>\n      <td>Tocantins</td>\n      <td>TO</td>\n      <td>Região Norte</td>\n      <td>139</td>\n    </tr>\n    <tr>\n      <th>7</th>\n      <td>21</td>\n      <td>Maranhão</td>\n      <td>MA</td>\n      <td>Região Nordeste</td>\n      <td>217</td>\n    </tr>\n    <tr>\n      <th>8</th>\n      <td>22</td>\n      <td>Piauí</td>\n      <td>PI</td>\n      <td>Região Nordeste</td>\n      <td>224</td>\n    </tr>\n    <tr>\n      <th>9</th>\n      <td>23</td>\n      <td>Ceará</td>\n      <td>CE</td>\n      <td>Região Nordeste</td>\n      <td>184</td>\n    </tr>\n    <tr>\n      <th>10</th>\n      <td>24</td>\n      <td>Rio Grande do Norte</td>\n      <td>RN</td>\n      <td>Região Nordeste</td>\n      <td>167</td>\n    </tr>\n    <tr>\n      <th>11</th>\n      <td>25</td>\n      <td>Paraíba</td>\n      <td>PB</td>\n      <td>Região Nordeste</td>\n      <td>223</td>\n    </tr>\n    <tr>\n      <th>12</th>\n      <td>26</td>\n      <td>Pernambuco</td>\n      <td>PE</td>\n      <td>Região Nordeste</td>\n      <td>185</td>\n    </tr>\n    <tr>\n      <th>13</th>\n      <td>27</td>\n      <td>Alagoas</td>\n      <td>AL</td>\n      <td>Região Nordeste</td>\n      <td>102</td>\n    </tr>\n    <tr>\n      <th>14</th>\n      <td>28</td>\n      <td>Sergipe</td>\n      <td>SE</td>\n      <td>Região Nordeste</td>\n      <td>75</td>\n    </tr>\n    <tr>\n      <th>15</th>\n      <td>29</td>\n      <td>Bahia</td>\n      <td>BA</td>\n      <td>Região Nordeste</td>\n      <td>417</td>\n    </tr>\n    <tr>\n      <th>16</th>\n      <td>31</td>\n      <td>Minas Gerais</td>\n      <td>MG</td>\n      <td>Região Sudeste</td>\n      <td>853</td>\n    </tr>\n    <tr>\n      <th>17</th>\n      <td>32</td>\n      <td>Espírito Santo</td>\n      <td>ES</td>\n      <td>Região Sudeste</td>\n      <td>78</td>\n    </tr>\n    <tr>\n      <th>18</th>\n      <td>33</td>\n      <td>Rio de Janeiro</td>\n      <td>RJ</td>\n      <td>Região Sudeste</td>\n      <td>92</td>\n    </tr>\n    <tr>\n      <th>19</th>\n      <td>35</td>\n      <td>São Paulo</td>\n      <td>SP</td>\n      <td>Região Sudeste</td>\n      <td>645</td>\n    </tr>\n    <tr>\n      <th>20</th>\n      <td>41</td>\n      <td>Paraná</td>\n      <td>PR</td>\n      <td>Região Sul</td>\n      <td>399</td>\n    </tr>\n    <tr>\n      <th>21</th>\n      <td>42</td>\n      <td>Santa Catarina</td>\n      <td>SC</td>\n      <td>Região Sul</td>\n      <td>295</td>\n    </tr>\n    <tr>\n      <th>22</th>\n      <td>43</td>\n      <td>Rio Grande do Sul</td>\n      <td>RS</td>\n      <td>Região Sul</td>\n      <td>497</td>\n    </tr>\n    <tr>\n      <th>23</th>\n      <td>50</td>\n      <td>Mato Grosso do Sul</td>\n      <td>MS</td>\n      <td>Região Centro-Oeste</td>\n      <td>79</td>\n    </tr>\n    <tr>\n      <th>24</th>\n      <td>51</td>\n      <td>Mato Grosso</td>\n      <td>MT</td>\n      <td>Região Centro-Oeste</td>\n      <td>141</td>\n    </tr>\n    <tr>\n      <th>25</th>\n      <td>52</td>\n      <td>Goiás</td>\n      <td>GO</td>\n      <td>Região Centro-Oeste</td>\n      <td>246</td>\n    </tr>\n    <tr>\n      <th>26</th>\n      <td>53</td>\n      <td>Distrito Federal</td>\n      <td>DF</td>\n      <td>Região Centro-Oeste</td>\n      <td>1</td>\n    </tr>\n  </tbody>\n</table>\n</div>"
     },
     "execution_count": 88,
     "metadata": {},
     "output_type": "execute_result"
    }
   ],
   "source": [
    "df_excel_estados"
   ],
   "metadata": {
    "collapsed": false,
    "pycharm": {
     "name": "#%%\n"
    }
   }
  },
  {
   "cell_type": "code",
   "execution_count": 89,
   "outputs": [
    {
     "data": {
      "text/plain": "   UF  Sexo  Cor  Anos de Estudo  Renda      Altura  nascimento\n0  11     0    8              12    800  1603807616        1999",
      "text/html": "<div>\n<style scoped>\n    .dataframe tbody tr th:only-of-type {\n        vertical-align: middle;\n    }\n\n    .dataframe tbody tr th {\n        vertical-align: top;\n    }\n\n    .dataframe thead th {\n        text-align: right;\n    }\n</style>\n<table border=\"1\" class=\"dataframe\">\n  <thead>\n    <tr style=\"text-align: right;\">\n      <th></th>\n      <th>UF</th>\n      <th>Sexo</th>\n      <th>Cor</th>\n      <th>Anos de Estudo</th>\n      <th>Renda</th>\n      <th>Altura</th>\n      <th>nascimento</th>\n    </tr>\n  </thead>\n  <tbody>\n    <tr>\n      <th>0</th>\n      <td>11</td>\n      <td>0</td>\n      <td>8</td>\n      <td>12</td>\n      <td>800</td>\n      <td>1603807616</td>\n      <td>1999</td>\n    </tr>\n  </tbody>\n</table>\n</div>"
     },
     "execution_count": 89,
     "metadata": {},
     "output_type": "execute_result"
    }
   ],
   "source": [
    "df_excel_aula.head(1)"
   ],
   "metadata": {
    "collapsed": false,
    "pycharm": {
     "name": "#%%\n"
    }
   }
  },
  {
   "cell_type": "markdown",
   "source": [
    "## criando o dataset por cor"
   ],
   "metadata": {
    "collapsed": false,
    "pycharm": {
     "name": "#%% md\n"
    }
   }
  },
  {
   "cell_type": "code",
   "execution_count": 90,
   "outputs": [],
   "source": [
    "data_cod = {'cod_cor':[0, 2, 4, 6 ,8], 'label_cor':['branco', 'preto', 'parda', 'amarela', 'indigena']}"
   ],
   "metadata": {
    "collapsed": false,
    "pycharm": {
     "name": "#%%\n"
    }
   }
  },
  {
   "cell_type": "code",
   "execution_count": 91,
   "outputs": [],
   "source": [
    "df_cor = pd.DataFrame(data_cod)"
   ],
   "metadata": {
    "collapsed": false,
    "pycharm": {
     "name": "#%%\n"
    }
   }
  },
  {
   "cell_type": "code",
   "execution_count": 92,
   "outputs": [
    {
     "data": {
      "text/plain": "   cod_cor label_cor\n0        0    branco\n1        2     preto\n2        4     parda\n3        6   amarela\n4        8  indigena",
      "text/html": "<div>\n<style scoped>\n    .dataframe tbody tr th:only-of-type {\n        vertical-align: middle;\n    }\n\n    .dataframe tbody tr th {\n        vertical-align: top;\n    }\n\n    .dataframe thead th {\n        text-align: right;\n    }\n</style>\n<table border=\"1\" class=\"dataframe\">\n  <thead>\n    <tr style=\"text-align: right;\">\n      <th></th>\n      <th>cod_cor</th>\n      <th>label_cor</th>\n    </tr>\n  </thead>\n  <tbody>\n    <tr>\n      <th>0</th>\n      <td>0</td>\n      <td>branco</td>\n    </tr>\n    <tr>\n      <th>1</th>\n      <td>2</td>\n      <td>preto</td>\n    </tr>\n    <tr>\n      <th>2</th>\n      <td>4</td>\n      <td>parda</td>\n    </tr>\n    <tr>\n      <th>3</th>\n      <td>6</td>\n      <td>amarela</td>\n    </tr>\n    <tr>\n      <th>4</th>\n      <td>8</td>\n      <td>indigena</td>\n    </tr>\n  </tbody>\n</table>\n</div>"
     },
     "execution_count": 92,
     "metadata": {},
     "output_type": "execute_result"
    }
   ],
   "source": [
    "df_cor"
   ],
   "metadata": {
    "collapsed": false,
    "pycharm": {
     "name": "#%%\n"
    }
   }
  },
  {
   "cell_type": "markdown",
   "source": [
    "## renomeando os nomes das colunas df_excel_aula"
   ],
   "metadata": {
    "collapsed": false,
    "pycharm": {
     "name": "#%% md\n"
    }
   }
  },
  {
   "cell_type": "code",
   "execution_count": 93,
   "outputs": [
    {
     "data": {
      "text/plain": "       uf  sexo  cod_cor  tempo_estudo  renda      Altura  ano_nascimento\n0      11     0        8            12    800  1603807616            1999\n1      11     1        2            12   1150  1739789827            1999\n2      11     1        8            15    880  1760443822            1987\n3      11     0        2             6   3500  1783157945            1976\n4      11     1        8             9    150  1690630954            1975\n...    ..   ...      ...           ...    ...         ...             ...\n76835  53     1        2            11    812  1687030276            1976\n76836  53     0        4             7   1500  1792933812            1992\n76837  53     0        8            12   1300  1830587384            1990\n76838  53     0        8             4   1500  1726344263            1965\n76839  53     0        8             4    900  1658304846            1984\n\n[76840 rows x 7 columns]",
      "text/html": "<div>\n<style scoped>\n    .dataframe tbody tr th:only-of-type {\n        vertical-align: middle;\n    }\n\n    .dataframe tbody tr th {\n        vertical-align: top;\n    }\n\n    .dataframe thead th {\n        text-align: right;\n    }\n</style>\n<table border=\"1\" class=\"dataframe\">\n  <thead>\n    <tr style=\"text-align: right;\">\n      <th></th>\n      <th>uf</th>\n      <th>sexo</th>\n      <th>cod_cor</th>\n      <th>tempo_estudo</th>\n      <th>renda</th>\n      <th>Altura</th>\n      <th>ano_nascimento</th>\n    </tr>\n  </thead>\n  <tbody>\n    <tr>\n      <th>0</th>\n      <td>11</td>\n      <td>0</td>\n      <td>8</td>\n      <td>12</td>\n      <td>800</td>\n      <td>1603807616</td>\n      <td>1999</td>\n    </tr>\n    <tr>\n      <th>1</th>\n      <td>11</td>\n      <td>1</td>\n      <td>2</td>\n      <td>12</td>\n      <td>1150</td>\n      <td>1739789827</td>\n      <td>1999</td>\n    </tr>\n    <tr>\n      <th>2</th>\n      <td>11</td>\n      <td>1</td>\n      <td>8</td>\n      <td>15</td>\n      <td>880</td>\n      <td>1760443822</td>\n      <td>1987</td>\n    </tr>\n    <tr>\n      <th>3</th>\n      <td>11</td>\n      <td>0</td>\n      <td>2</td>\n      <td>6</td>\n      <td>3500</td>\n      <td>1783157945</td>\n      <td>1976</td>\n    </tr>\n    <tr>\n      <th>4</th>\n      <td>11</td>\n      <td>1</td>\n      <td>8</td>\n      <td>9</td>\n      <td>150</td>\n      <td>1690630954</td>\n      <td>1975</td>\n    </tr>\n    <tr>\n      <th>...</th>\n      <td>...</td>\n      <td>...</td>\n      <td>...</td>\n      <td>...</td>\n      <td>...</td>\n      <td>...</td>\n      <td>...</td>\n    </tr>\n    <tr>\n      <th>76835</th>\n      <td>53</td>\n      <td>1</td>\n      <td>2</td>\n      <td>11</td>\n      <td>812</td>\n      <td>1687030276</td>\n      <td>1976</td>\n    </tr>\n    <tr>\n      <th>76836</th>\n      <td>53</td>\n      <td>0</td>\n      <td>4</td>\n      <td>7</td>\n      <td>1500</td>\n      <td>1792933812</td>\n      <td>1992</td>\n    </tr>\n    <tr>\n      <th>76837</th>\n      <td>53</td>\n      <td>0</td>\n      <td>8</td>\n      <td>12</td>\n      <td>1300</td>\n      <td>1830587384</td>\n      <td>1990</td>\n    </tr>\n    <tr>\n      <th>76838</th>\n      <td>53</td>\n      <td>0</td>\n      <td>8</td>\n      <td>4</td>\n      <td>1500</td>\n      <td>1726344263</td>\n      <td>1965</td>\n    </tr>\n    <tr>\n      <th>76839</th>\n      <td>53</td>\n      <td>0</td>\n      <td>8</td>\n      <td>4</td>\n      <td>900</td>\n      <td>1658304846</td>\n      <td>1984</td>\n    </tr>\n  </tbody>\n</table>\n<p>76840 rows × 7 columns</p>\n</div>"
     },
     "execution_count": 93,
     "metadata": {},
     "output_type": "execute_result"
    }
   ],
   "source": [
    "df_excel_aula.rename(columns={\"UF\":'uf', \"Sexo\":'sexo', \"Cor\":'cod_cor',\"Anos de Estudo\":\"tempo_estudo\", 'Renda':\"renda\", \"nascimento\":\"ano_nascimento\"})"
   ],
   "metadata": {
    "collapsed": false,
    "pycharm": {
     "name": "#%%\n"
    }
   }
  },
  {
   "cell_type": "markdown",
   "source": [
    "# 1) SELEÇÃO DE DADOS  SOMENTE FEATURES DE INTERESSE  - REMOÇÃO DE ALTURA"
   ],
   "metadata": {
    "collapsed": false,
    "pycharm": {
     "name": "#%% md\n"
    }
   }
  },
  {
   "cell_type": "markdown",
   "source": [
    "pegando somente o dado que interessa -> altura"
   ],
   "metadata": {
    "collapsed": false,
    "pycharm": {
     "name": "#%% md\n"
    }
   }
  },
  {
   "cell_type": "code",
   "execution_count": 94,
   "outputs": [
    {
     "data": {
      "text/plain": "0        1603807616\n1        1739789827\n2        1760443822\n3        1783157945\n4        1690630954\n            ...    \n76835    1687030276\n76836    1792933812\n76837    1830587384\n76838    1726344263\n76839    1658304846\nName: Altura, Length: 76840, dtype: int64"
     },
     "execution_count": 94,
     "metadata": {},
     "output_type": "execute_result"
    }
   ],
   "source": [
    "df_excel_aula1 = df_excel_aula['Altura']\n",
    "df_excel_aula1"
   ],
   "metadata": {
    "collapsed": false,
    "pycharm": {
     "name": "#%%\n"
    }
   }
  },
  {
   "cell_type": "markdown",
   "source": [
    "removendo a coluna que não nos interessa ->"
   ],
   "metadata": {
    "collapsed": false,
    "pycharm": {
     "name": "#%% md\n"
    }
   }
  },
  {
   "cell_type": "code",
   "execution_count": 95,
   "outputs": [
    {
     "data": {
      "text/plain": "       UF  Sexo  Cor  Anos de Estudo  Renda  nascimento\n0      11     0    8              12    800        1999\n1      11     1    2              12   1150        1999\n2      11     1    8              15    880        1987\n3      11     0    2               6   3500        1976\n4      11     1    8               9    150        1975\n...    ..   ...  ...             ...    ...         ...\n76835  53     1    2              11    812        1976\n76836  53     0    4               7   1500        1992\n76837  53     0    8              12   1300        1990\n76838  53     0    8               4   1500        1965\n76839  53     0    8               4    900        1984\n\n[76840 rows x 6 columns]",
      "text/html": "<div>\n<style scoped>\n    .dataframe tbody tr th:only-of-type {\n        vertical-align: middle;\n    }\n\n    .dataframe tbody tr th {\n        vertical-align: top;\n    }\n\n    .dataframe thead th {\n        text-align: right;\n    }\n</style>\n<table border=\"1\" class=\"dataframe\">\n  <thead>\n    <tr style=\"text-align: right;\">\n      <th></th>\n      <th>UF</th>\n      <th>Sexo</th>\n      <th>Cor</th>\n      <th>Anos de Estudo</th>\n      <th>Renda</th>\n      <th>nascimento</th>\n    </tr>\n  </thead>\n  <tbody>\n    <tr>\n      <th>0</th>\n      <td>11</td>\n      <td>0</td>\n      <td>8</td>\n      <td>12</td>\n      <td>800</td>\n      <td>1999</td>\n    </tr>\n    <tr>\n      <th>1</th>\n      <td>11</td>\n      <td>1</td>\n      <td>2</td>\n      <td>12</td>\n      <td>1150</td>\n      <td>1999</td>\n    </tr>\n    <tr>\n      <th>2</th>\n      <td>11</td>\n      <td>1</td>\n      <td>8</td>\n      <td>15</td>\n      <td>880</td>\n      <td>1987</td>\n    </tr>\n    <tr>\n      <th>3</th>\n      <td>11</td>\n      <td>0</td>\n      <td>2</td>\n      <td>6</td>\n      <td>3500</td>\n      <td>1976</td>\n    </tr>\n    <tr>\n      <th>4</th>\n      <td>11</td>\n      <td>1</td>\n      <td>8</td>\n      <td>9</td>\n      <td>150</td>\n      <td>1975</td>\n    </tr>\n    <tr>\n      <th>...</th>\n      <td>...</td>\n      <td>...</td>\n      <td>...</td>\n      <td>...</td>\n      <td>...</td>\n      <td>...</td>\n    </tr>\n    <tr>\n      <th>76835</th>\n      <td>53</td>\n      <td>1</td>\n      <td>2</td>\n      <td>11</td>\n      <td>812</td>\n      <td>1976</td>\n    </tr>\n    <tr>\n      <th>76836</th>\n      <td>53</td>\n      <td>0</td>\n      <td>4</td>\n      <td>7</td>\n      <td>1500</td>\n      <td>1992</td>\n    </tr>\n    <tr>\n      <th>76837</th>\n      <td>53</td>\n      <td>0</td>\n      <td>8</td>\n      <td>12</td>\n      <td>1300</td>\n      <td>1990</td>\n    </tr>\n    <tr>\n      <th>76838</th>\n      <td>53</td>\n      <td>0</td>\n      <td>8</td>\n      <td>4</td>\n      <td>1500</td>\n      <td>1965</td>\n    </tr>\n    <tr>\n      <th>76839</th>\n      <td>53</td>\n      <td>0</td>\n      <td>8</td>\n      <td>4</td>\n      <td>900</td>\n      <td>1984</td>\n    </tr>\n  </tbody>\n</table>\n<p>76840 rows × 6 columns</p>\n</div>"
     },
     "execution_count": 95,
     "metadata": {},
     "output_type": "execute_result"
    }
   ],
   "source": [
    "df_excel_aula2 = df_excel_aula.drop(columns=['Altura'])\n",
    "df_excel_aula2"
   ],
   "metadata": {
    "collapsed": false,
    "pycharm": {
     "name": "#%%\n"
    }
   }
  },
  {
   "cell_type": "markdown",
   "source": [
    "# 2) INCLUIR IDADE\n",
    "\n",
    "# --Como pegar ano atual para realizar cálculo"
   ],
   "metadata": {
    "collapsed": false,
    "pycharm": {
     "name": "#%% md\n"
    }
   }
  },
  {
   "cell_type": "code",
   "execution_count": 96,
   "outputs": [],
   "source": [
    "from datetime import date"
   ],
   "metadata": {
    "collapsed": false,
    "pycharm": {
     "name": "#%%\n"
    }
   }
  },
  {
   "cell_type": "code",
   "execution_count": 97,
   "outputs": [],
   "source": [
    "data_atual = date.today()\n",
    "data_atual = data_atual.year"
   ],
   "metadata": {
    "collapsed": false,
    "pycharm": {
     "name": "#%%\n"
    }
   }
  },
  {
   "cell_type": "code",
   "execution_count": 98,
   "outputs": [
    {
     "data": {
      "text/plain": "count    76840.000000\nmean        44.071421\nstd         12.480583\nmin         13.000000\n25%         34.000000\n50%         43.000000\n75%         53.000000\nmax         99.000000\nName: Idade, dtype: float64"
     },
     "execution_count": 98,
     "metadata": {},
     "output_type": "execute_result"
    }
   ],
   "source": [
    "df_excel_aula['Idade'] = data_atual - df_excel_aula['nascimento']\n",
    "\n",
    "df_excel_aula['Idade'].describe()"
   ],
   "metadata": {
    "collapsed": false,
    "pycharm": {
     "name": "#%%\n"
    }
   }
  },
  {
   "cell_type": "markdown",
   "source": [
    "# 2)    IDADE  //Idade > 16 e Idade <= 75"
   ],
   "metadata": {
    "collapsed": false,
    "pycharm": {
     "name": "#%% md\n"
    }
   }
  },
  {
   "cell_type": "markdown",
   "source": [
    "# --CONSIDERAR IDADE > 16 E IDADE < 75"
   ],
   "metadata": {
    "collapsed": false,
    "pycharm": {
     "name": "#%% md\n"
    }
   }
  },
  {
   "cell_type": "code",
   "execution_count": 99,
   "outputs": [
    {
     "data": {
      "text/plain": "count    75947.000000\nmean        43.669098\nstd         11.961069\nmin         16.000000\n25%         34.000000\n50%         43.000000\n75%         52.000000\nmax         74.000000\nName: Idade, dtype: float64"
     },
     "execution_count": 99,
     "metadata": {},
     "output_type": "execute_result"
    }
   ],
   "source": [
    "df_filtrado = df_excel_aula['Idade'][(16 <= df_excel_aula['Idade']) &  (75 > df_excel_aula['Idade'])]\n",
    "\n",
    "df_filtrado.describe()"
   ],
   "metadata": {
    "collapsed": false,
    "pycharm": {
     "name": "#%%\n"
    }
   }
  },
  {
   "cell_type": "markdown",
   "source": [
    "# considerar renda > 0"
   ],
   "metadata": {
    "collapsed": false,
    "pycharm": {
     "name": "#%% md\n"
    }
   }
  },
  {
   "cell_type": "code",
   "execution_count": 100,
   "outputs": [
    {
     "data": {
      "text/plain": "       UF  Sexo  Cor  Anos de Estudo  Renda      Altura  nascimento  Idade\n0      11     0    8              12    800  1603807616        1999     23\n1      11     1    2              12   1150  1739789827        1999     23\n2      11     1    8              15    880  1760443822        1987     35\n3      11     0    2               6   3500  1783157945        1976     46\n4      11     1    8               9    150  1690630954        1975     47\n...    ..   ...  ...             ...    ...         ...         ...    ...\n76835  53     1    2              11    812  1687030276        1976     46\n76836  53     0    4               7   1500  1792933812        1992     30\n76837  53     0    8              12   1300  1830587384        1990     32\n76838  53     0    8               4   1500  1726344263        1965     57\n76839  53     0    8               4    900  1658304846        1984     38\n\n[73973 rows x 8 columns]",
      "text/html": "<div>\n<style scoped>\n    .dataframe tbody tr th:only-of-type {\n        vertical-align: middle;\n    }\n\n    .dataframe tbody tr th {\n        vertical-align: top;\n    }\n\n    .dataframe thead th {\n        text-align: right;\n    }\n</style>\n<table border=\"1\" class=\"dataframe\">\n  <thead>\n    <tr style=\"text-align: right;\">\n      <th></th>\n      <th>UF</th>\n      <th>Sexo</th>\n      <th>Cor</th>\n      <th>Anos de Estudo</th>\n      <th>Renda</th>\n      <th>Altura</th>\n      <th>nascimento</th>\n      <th>Idade</th>\n    </tr>\n  </thead>\n  <tbody>\n    <tr>\n      <th>0</th>\n      <td>11</td>\n      <td>0</td>\n      <td>8</td>\n      <td>12</td>\n      <td>800</td>\n      <td>1603807616</td>\n      <td>1999</td>\n      <td>23</td>\n    </tr>\n    <tr>\n      <th>1</th>\n      <td>11</td>\n      <td>1</td>\n      <td>2</td>\n      <td>12</td>\n      <td>1150</td>\n      <td>1739789827</td>\n      <td>1999</td>\n      <td>23</td>\n    </tr>\n    <tr>\n      <th>2</th>\n      <td>11</td>\n      <td>1</td>\n      <td>8</td>\n      <td>15</td>\n      <td>880</td>\n      <td>1760443822</td>\n      <td>1987</td>\n      <td>35</td>\n    </tr>\n    <tr>\n      <th>3</th>\n      <td>11</td>\n      <td>0</td>\n      <td>2</td>\n      <td>6</td>\n      <td>3500</td>\n      <td>1783157945</td>\n      <td>1976</td>\n      <td>46</td>\n    </tr>\n    <tr>\n      <th>4</th>\n      <td>11</td>\n      <td>1</td>\n      <td>8</td>\n      <td>9</td>\n      <td>150</td>\n      <td>1690630954</td>\n      <td>1975</td>\n      <td>47</td>\n    </tr>\n    <tr>\n      <th>...</th>\n      <td>...</td>\n      <td>...</td>\n      <td>...</td>\n      <td>...</td>\n      <td>...</td>\n      <td>...</td>\n      <td>...</td>\n      <td>...</td>\n    </tr>\n    <tr>\n      <th>76835</th>\n      <td>53</td>\n      <td>1</td>\n      <td>2</td>\n      <td>11</td>\n      <td>812</td>\n      <td>1687030276</td>\n      <td>1976</td>\n      <td>46</td>\n    </tr>\n    <tr>\n      <th>76836</th>\n      <td>53</td>\n      <td>0</td>\n      <td>4</td>\n      <td>7</td>\n      <td>1500</td>\n      <td>1792933812</td>\n      <td>1992</td>\n      <td>30</td>\n    </tr>\n    <tr>\n      <th>76837</th>\n      <td>53</td>\n      <td>0</td>\n      <td>8</td>\n      <td>12</td>\n      <td>1300</td>\n      <td>1830587384</td>\n      <td>1990</td>\n      <td>32</td>\n    </tr>\n    <tr>\n      <th>76838</th>\n      <td>53</td>\n      <td>0</td>\n      <td>8</td>\n      <td>4</td>\n      <td>1500</td>\n      <td>1726344263</td>\n      <td>1965</td>\n      <td>57</td>\n    </tr>\n    <tr>\n      <th>76839</th>\n      <td>53</td>\n      <td>0</td>\n      <td>8</td>\n      <td>4</td>\n      <td>900</td>\n      <td>1658304846</td>\n      <td>1984</td>\n      <td>38</td>\n    </tr>\n  </tbody>\n</table>\n<p>73973 rows × 8 columns</p>\n</div>"
     },
     "execution_count": 100,
     "metadata": {},
     "output_type": "execute_result"
    }
   ],
   "source": [
    "df_excel_aula = df_excel_aula[(df_excel_aula['Renda'] > 0)]\n",
    "\n",
    "df_excel_aula"
   ],
   "metadata": {
    "collapsed": false,
    "pycharm": {
     "name": "#%%\n"
    }
   }
  },
  {
   "cell_type": "markdown",
   "source": [
    "## juntando dataframes com o nome IBGE"
   ],
   "metadata": {
    "collapsed": false,
    "pycharm": {
     "name": "#%% md\n"
    }
   }
  },
  {
   "cell_type": "code",
   "execution_count": 101,
   "outputs": [
    {
     "data": {
      "text/plain": "0     11\n1     12\n2     13\n3     14\n4     15\n5     16\n6     17\n7     21\n8     22\n9     23\n10    24\n11    25\n12    26\n13    27\n14    28\n15    29\n16    31\n17    32\n18    33\n19    35\n20    41\n21    42\n22    43\n23    50\n24    51\n25    52\n26    53\nName: IBGE, dtype: int64"
     },
     "execution_count": 101,
     "metadata": {},
     "output_type": "execute_result"
    }
   ],
   "source": [
    "df_excel_estados['IBGE']"
   ],
   "metadata": {
    "collapsed": false,
    "pycharm": {
     "name": "#%%\n"
    }
   }
  },
  {
   "cell_type": "code",
   "execution_count": 102,
   "outputs": [],
   "source": [
    "df_excel_aula = df_excel_aula.rename(columns={\"UF\":'IBGE', \"Sexo\":'sexo', \"Cor\":'cod_cor',\"Anos de Estudo\":\"tempo_estudo\", 'Renda':\"renda\", \"nascimento\":\"ano_nascimento\"})"
   ],
   "metadata": {
    "collapsed": false,
    "pycharm": {
     "name": "#%%\n"
    }
   }
  },
  {
   "cell_type": "code",
   "execution_count": 103,
   "outputs": [
    {
     "data": {
      "text/plain": "   IBGE  sexo  cod_cor  tempo_estudo  renda      Altura  ano_nascimento  \\\n0    11     0        8            12    800  1603807616            1999   \n1    11     1        2            12   1150  1739789827            1999   \n2    11     1        8            15    880  1760443822            1987   \n3    11     0        2             6   3500  1783157945            1976   \n4    11     1        8             9    150  1690630954            1975   \n\n   Idade    Estado  UF        Região  Qtd Mun  \n0     23  Rondônia  RO  Região Norte       52  \n1     23  Rondônia  RO  Região Norte       52  \n2     35  Rondônia  RO  Região Norte       52  \n3     46  Rondônia  RO  Região Norte       52  \n4     47  Rondônia  RO  Região Norte       52  ",
      "text/html": "<div>\n<style scoped>\n    .dataframe tbody tr th:only-of-type {\n        vertical-align: middle;\n    }\n\n    .dataframe tbody tr th {\n        vertical-align: top;\n    }\n\n    .dataframe thead th {\n        text-align: right;\n    }\n</style>\n<table border=\"1\" class=\"dataframe\">\n  <thead>\n    <tr style=\"text-align: right;\">\n      <th></th>\n      <th>IBGE</th>\n      <th>sexo</th>\n      <th>cod_cor</th>\n      <th>tempo_estudo</th>\n      <th>renda</th>\n      <th>Altura</th>\n      <th>ano_nascimento</th>\n      <th>Idade</th>\n      <th>Estado</th>\n      <th>UF</th>\n      <th>Região</th>\n      <th>Qtd Mun</th>\n    </tr>\n  </thead>\n  <tbody>\n    <tr>\n      <th>0</th>\n      <td>11</td>\n      <td>0</td>\n      <td>8</td>\n      <td>12</td>\n      <td>800</td>\n      <td>1603807616</td>\n      <td>1999</td>\n      <td>23</td>\n      <td>Rondônia</td>\n      <td>RO</td>\n      <td>Região Norte</td>\n      <td>52</td>\n    </tr>\n    <tr>\n      <th>1</th>\n      <td>11</td>\n      <td>1</td>\n      <td>2</td>\n      <td>12</td>\n      <td>1150</td>\n      <td>1739789827</td>\n      <td>1999</td>\n      <td>23</td>\n      <td>Rondônia</td>\n      <td>RO</td>\n      <td>Região Norte</td>\n      <td>52</td>\n    </tr>\n    <tr>\n      <th>2</th>\n      <td>11</td>\n      <td>1</td>\n      <td>8</td>\n      <td>15</td>\n      <td>880</td>\n      <td>1760443822</td>\n      <td>1987</td>\n      <td>35</td>\n      <td>Rondônia</td>\n      <td>RO</td>\n      <td>Região Norte</td>\n      <td>52</td>\n    </tr>\n    <tr>\n      <th>3</th>\n      <td>11</td>\n      <td>0</td>\n      <td>2</td>\n      <td>6</td>\n      <td>3500</td>\n      <td>1783157945</td>\n      <td>1976</td>\n      <td>46</td>\n      <td>Rondônia</td>\n      <td>RO</td>\n      <td>Região Norte</td>\n      <td>52</td>\n    </tr>\n    <tr>\n      <th>4</th>\n      <td>11</td>\n      <td>1</td>\n      <td>8</td>\n      <td>9</td>\n      <td>150</td>\n      <td>1690630954</td>\n      <td>1975</td>\n      <td>47</td>\n      <td>Rondônia</td>\n      <td>RO</td>\n      <td>Região Norte</td>\n      <td>52</td>\n    </tr>\n  </tbody>\n</table>\n</div>"
     },
     "execution_count": 103,
     "metadata": {},
     "output_type": "execute_result"
    }
   ],
   "source": [
    "new_df = pd.merge(df_excel_aula, df_excel_estados, how='outer', on='IBGE' )\n",
    "\n",
    "new_df.head()"
   ],
   "metadata": {
    "collapsed": false,
    "pycharm": {
     "name": "#%%\n"
    }
   }
  },
  {
   "cell_type": "markdown",
   "source": [
    "# Mudando a nomeclatura do Sexo"
   ],
   "metadata": {
    "collapsed": false,
    "pycharm": {
     "name": "#%% md\n"
    }
   }
  },
  {
   "cell_type": "code",
   "execution_count": 104,
   "outputs": [],
   "source": [
    "new_df.loc[new_df['sexo']==0, 'sexo']=\"M\"\n",
    "new_df.loc[new_df['sexo']==1, 'sexo']=\"F\"\n",
    "new_df.loc[new_df['sexo']==None, 'sexo']=\"D\""
   ],
   "metadata": {
    "collapsed": false,
    "pycharm": {
     "name": "#%%\n"
    }
   }
  },
  {
   "cell_type": "markdown",
   "source": [
    "# FAIXA DE RENDA"
   ],
   "metadata": {
    "collapsed": false,
    "pycharm": {
     "name": "#%% md\n"
    }
   }
  },
  {
   "cell_type": "code",
   "execution_count": 153,
   "outputs": [],
   "source": [
    "new_df['faixa_salario'] = new_df['renda']"
   ],
   "metadata": {
    "collapsed": false,
    "pycharm": {
     "name": "#%%\n"
    }
   }
  },
  {
   "cell_type": "code",
   "execution_count": 154,
   "outputs": [],
   "source": [
    "new_df.loc[(new_df.renda < 1000), 'faixa_salario'] = \"Menor que 1000\"\n",
    "new_df.loc[(new_df.renda >= 1000) & (new_df.renda <1600), 'faixa_salario'] = \"1000 |- 1600\"\n",
    "new_df.loc[(new_df.renda >= 1600) & (new_df.renda <4400), 'faixa_salario'] = \"1600 |- 4400\"\n",
    "new_df.loc[(new_df.renda >= 4400) & (new_df.renda <5400), 'faixa_salario'] = \"4400 |- 5400\"\n",
    "new_df.loc[(new_df.renda >= 5400), 'faixa_salario'] = \"mais que 5400\""
   ],
   "metadata": {
    "collapsed": false,
    "pycharm": {
     "name": "#%%\n"
    }
   }
  },
  {
   "cell_type": "code",
   "execution_count": 155,
   "outputs": [
    {
     "data": {
      "text/plain": "0        Menor que 1000\n1          1000 |- 1600\n2        Menor que 1000\n3          1600 |- 4400\n4        Menor que 1000\n              ...      \n73968    Menor que 1000\n73969      1000 |- 1600\n73970      1000 |- 1600\n73971      1000 |- 1600\n73972    Menor que 1000\nName: faixa_salario, Length: 73973, dtype: object"
     },
     "execution_count": 155,
     "metadata": {},
     "output_type": "execute_result"
    }
   ],
   "source": [
    "new_df['faixa_salario']"
   ],
   "metadata": {
    "collapsed": false,
    "pycharm": {
     "name": "#%%\n"
    }
   }
  },
  {
   "cell_type": "markdown",
   "source": [
    "faixa etaria"
   ],
   "metadata": {
    "collapsed": false,
    "pycharm": {
     "name": "#%% md\n"
    }
   }
  },
  {
   "cell_type": "code",
   "execution_count": 157,
   "outputs": [],
   "source": [
    "new_df['faixa_etaria'] = new_df['Idade']"
   ],
   "metadata": {
    "collapsed": false,
    "pycharm": {
     "name": "#%%\n"
    }
   }
  },
  {
   "cell_type": "code",
   "execution_count": 162,
   "outputs": [],
   "source": [
    "new_df.loc[(new_df.Idade >= 16) & (new_df.Idade <= 24), 'faixa_etaria'] = \"16 a 24\"\n",
    "new_df.loc[(new_df.Idade >= 25) & (new_df.Idade <= 34), 'faixa_etaria'] = \"25 a 34\"\n",
    "new_df.loc[(new_df.Idade >= 35) & (new_df.Idade <= 44), 'faixa_etaria'] = \"35 a 44\"\n",
    "new_df.loc[(new_df.Idade >= 45) & (new_df.Idade <= 54), 'faixa_etaria'] = \"45 a 54\"\n",
    "new_df.loc[(new_df.Idade >= 55) & (new_df.Idade <= 64), 'faixa_etaria'] = \"55 a 64\"\n",
    "new_df.loc[(new_df.Idade >= 65), 'faixa_etaria'] = \"+65\""
   ],
   "metadata": {
    "collapsed": false,
    "pycharm": {
     "name": "#%%\n"
    }
   }
  },
  {
   "cell_type": "code",
   "execution_count": 163,
   "outputs": [
    {
     "data": {
      "text/plain": "0        16 a 24\n1        16 a 24\n2        35 a 44\n3        45 a 54\n4        45 a 54\n          ...   \n73968    45 a 54\n73969    25 a 34\n73970    25 a 34\n73971    55 a 64\n73972    35 a 44\nName: faixa_etaria, Length: 73973, dtype: object"
     },
     "execution_count": 163,
     "metadata": {},
     "output_type": "execute_result"
    }
   ],
   "source": [
    "new_df['faixa_etaria']"
   ],
   "metadata": {
    "collapsed": false,
    "pycharm": {
     "name": "#%%\n"
    }
   }
  },
  {
   "cell_type": "markdown",
   "source": [
    "# CLASSE A,B,C...  ALGUNS DE EXEMPLO"
   ],
   "metadata": {
    "collapsed": false,
    "pycharm": {
     "name": "#%% md\n"
    }
   }
  },
  {
   "cell_type": "code",
   "execution_count": 167,
   "outputs": [],
   "source": [
    "salario_minimo = 1200\n",
    "new_df['classe'] = 'NULL'"
   ],
   "metadata": {
    "collapsed": false,
    "pycharm": {
     "name": "#%%\n"
    }
   }
  },
  {
   "cell_type": "code",
   "execution_count": 169,
   "outputs": [],
   "source": [
    "new_df.loc[(new_df.renda <= salario_minimo*2), 'classe'] = \"E\"\n",
    "new_df.loc[(new_df.renda > salario_minimo*2) & (new_df.renda <= salario_minimo*4), 'classe'] = \"D\"\n",
    "new_df.loc[(new_df.renda > salario_minimo*4) & (new_df.renda <= salario_minimo*10), 'classe'] = \"C\"\n",
    "new_df.loc[(new_df.renda > salario_minimo*10) & (new_df.renda <= salario_minimo*20), 'classe'] = \"B\"\n",
    "new_df.loc[(new_df.renda > salario_minimo*20), 'classe'] = \"B\""
   ],
   "metadata": {
    "collapsed": false,
    "pycharm": {
     "name": "#%%\n"
    }
   }
  },
  {
   "cell_type": "code",
   "execution_count": 170,
   "outputs": [
    {
     "data": {
      "text/plain": "0        E\n1        E\n2        E\n3        D\n4        E\n        ..\n73968    E\n73969    E\n73970    E\n73971    E\n73972    E\nName: classe, Length: 73973, dtype: object"
     },
     "execution_count": 170,
     "metadata": {},
     "output_type": "execute_result"
    }
   ],
   "source": [
    "new_df['classe']"
   ],
   "metadata": {
    "collapsed": false,
    "pycharm": {
     "name": "#%%\n"
    }
   }
  },
  {
   "cell_type": "markdown",
   "source": [
    "# normalização\n",
    "# IDADE NORMALIZADA"
   ],
   "metadata": {
    "collapsed": false,
    "pycharm": {
     "name": "#%% md\n"
    }
   }
  },
  {
   "cell_type": "code",
   "execution_count": 171,
   "outputs": [],
   "source": [
    "def normalizacao(x):\n",
    "    return ((x-min(x))/(max(x)-min(x)))"
   ],
   "metadata": {
    "collapsed": false,
    "pycharm": {
     "name": "#%%\n"
    }
   }
  },
  {
   "cell_type": "code",
   "execution_count": 172,
   "outputs": [],
   "source": [
    "new_df['idade_normalizada'] = normalizacao(new_df.Idade)"
   ],
   "metadata": {
    "collapsed": false,
    "pycharm": {
     "name": "#%%\n"
    }
   }
  },
  {
   "cell_type": "code",
   "execution_count": 173,
   "outputs": [
    {
     "data": {
      "text/plain": "0        0.121951\n1        0.121951\n2        0.268293\n3        0.402439\n4        0.414634\n           ...   \n73968    0.402439\n73969    0.207317\n73970    0.231707\n73971    0.536585\n73972    0.304878\nName: idade_normalizada, Length: 73973, dtype: float64"
     },
     "execution_count": 173,
     "metadata": {},
     "output_type": "execute_result"
    }
   ],
   "source": [
    "new_df['idade_normalizada']"
   ],
   "metadata": {
    "collapsed": false,
    "pycharm": {
     "name": "#%%\n"
    }
   }
  },
  {
   "cell_type": "code",
   "execution_count": 174,
   "outputs": [
    {
     "data": {
      "text/plain": "       IBGE sexo  cod_cor  tempo_estudo  renda      Altura  ano_nascimento  \\\n0        11    M        8            12    800  1603807616            1999   \n1        11    F        2            12   1150  1739789827            1999   \n2        11    F        8            15    880  1760443822            1987   \n3        11    M        2             6   3500  1783157945            1976   \n4        11    F        8             9    150  1690630954            1975   \n...     ...  ...      ...           ...    ...         ...             ...   \n73968    53    F        2            11    812  1687030276            1976   \n73969    53    M        4             7   1500  1792933812            1992   \n73970    53    M        8            12   1300  1830587384            1990   \n73971    53    M        8             4   1500  1726344263            1965   \n73972    53    M        8             4    900  1658304846            1984   \n\n       Idade            Estado  UF               Região  Qtd Mun  \\\n0         23          Rondônia  RO         Região Norte       52   \n1         23          Rondônia  RO         Região Norte       52   \n2         35          Rondônia  RO         Região Norte       52   \n3         46          Rondônia  RO         Região Norte       52   \n4         47          Rondônia  RO         Região Norte       52   \n...      ...               ...  ..                  ...      ...   \n73968     46  Distrito Federal  DF  Região Centro-Oeste        1   \n73969     30  Distrito Federal  DF  Região Centro-Oeste        1   \n73970     32  Distrito Federal  DF  Região Centro-Oeste        1   \n73971     57  Distrito Federal  DF  Região Centro-Oeste        1   \n73972     38  Distrito Federal  DF  Região Centro-Oeste        1   \n\n        faixa_salario faixa_etaria classe  idade_normalizada  \n0      Menor que 1000      16 a 24      E           0.121951  \n1        1000 |- 1600      16 a 24      E           0.121951  \n2      Menor que 1000      35 a 44      E           0.268293  \n3        1600 |- 4400      45 a 54      D           0.402439  \n4      Menor que 1000      45 a 54      E           0.414634  \n...               ...          ...    ...                ...  \n73968  Menor que 1000      45 a 54      E           0.402439  \n73969    1000 |- 1600      25 a 34      E           0.207317  \n73970    1000 |- 1600      25 a 34      E           0.231707  \n73971    1000 |- 1600      55 a 64      E           0.536585  \n73972  Menor que 1000      35 a 44      E           0.304878  \n\n[73973 rows x 16 columns]",
      "text/html": "<div>\n<style scoped>\n    .dataframe tbody tr th:only-of-type {\n        vertical-align: middle;\n    }\n\n    .dataframe tbody tr th {\n        vertical-align: top;\n    }\n\n    .dataframe thead th {\n        text-align: right;\n    }\n</style>\n<table border=\"1\" class=\"dataframe\">\n  <thead>\n    <tr style=\"text-align: right;\">\n      <th></th>\n      <th>IBGE</th>\n      <th>sexo</th>\n      <th>cod_cor</th>\n      <th>tempo_estudo</th>\n      <th>renda</th>\n      <th>Altura</th>\n      <th>ano_nascimento</th>\n      <th>Idade</th>\n      <th>Estado</th>\n      <th>UF</th>\n      <th>Região</th>\n      <th>Qtd Mun</th>\n      <th>faixa_salario</th>\n      <th>faixa_etaria</th>\n      <th>classe</th>\n      <th>idade_normalizada</th>\n    </tr>\n  </thead>\n  <tbody>\n    <tr>\n      <th>0</th>\n      <td>11</td>\n      <td>M</td>\n      <td>8</td>\n      <td>12</td>\n      <td>800</td>\n      <td>1603807616</td>\n      <td>1999</td>\n      <td>23</td>\n      <td>Rondônia</td>\n      <td>RO</td>\n      <td>Região Norte</td>\n      <td>52</td>\n      <td>Menor que 1000</td>\n      <td>16 a 24</td>\n      <td>E</td>\n      <td>0.121951</td>\n    </tr>\n    <tr>\n      <th>1</th>\n      <td>11</td>\n      <td>F</td>\n      <td>2</td>\n      <td>12</td>\n      <td>1150</td>\n      <td>1739789827</td>\n      <td>1999</td>\n      <td>23</td>\n      <td>Rondônia</td>\n      <td>RO</td>\n      <td>Região Norte</td>\n      <td>52</td>\n      <td>1000 |- 1600</td>\n      <td>16 a 24</td>\n      <td>E</td>\n      <td>0.121951</td>\n    </tr>\n    <tr>\n      <th>2</th>\n      <td>11</td>\n      <td>F</td>\n      <td>8</td>\n      <td>15</td>\n      <td>880</td>\n      <td>1760443822</td>\n      <td>1987</td>\n      <td>35</td>\n      <td>Rondônia</td>\n      <td>RO</td>\n      <td>Região Norte</td>\n      <td>52</td>\n      <td>Menor que 1000</td>\n      <td>35 a 44</td>\n      <td>E</td>\n      <td>0.268293</td>\n    </tr>\n    <tr>\n      <th>3</th>\n      <td>11</td>\n      <td>M</td>\n      <td>2</td>\n      <td>6</td>\n      <td>3500</td>\n      <td>1783157945</td>\n      <td>1976</td>\n      <td>46</td>\n      <td>Rondônia</td>\n      <td>RO</td>\n      <td>Região Norte</td>\n      <td>52</td>\n      <td>1600 |- 4400</td>\n      <td>45 a 54</td>\n      <td>D</td>\n      <td>0.402439</td>\n    </tr>\n    <tr>\n      <th>4</th>\n      <td>11</td>\n      <td>F</td>\n      <td>8</td>\n      <td>9</td>\n      <td>150</td>\n      <td>1690630954</td>\n      <td>1975</td>\n      <td>47</td>\n      <td>Rondônia</td>\n      <td>RO</td>\n      <td>Região Norte</td>\n      <td>52</td>\n      <td>Menor que 1000</td>\n      <td>45 a 54</td>\n      <td>E</td>\n      <td>0.414634</td>\n    </tr>\n    <tr>\n      <th>...</th>\n      <td>...</td>\n      <td>...</td>\n      <td>...</td>\n      <td>...</td>\n      <td>...</td>\n      <td>...</td>\n      <td>...</td>\n      <td>...</td>\n      <td>...</td>\n      <td>...</td>\n      <td>...</td>\n      <td>...</td>\n      <td>...</td>\n      <td>...</td>\n      <td>...</td>\n      <td>...</td>\n    </tr>\n    <tr>\n      <th>73968</th>\n      <td>53</td>\n      <td>F</td>\n      <td>2</td>\n      <td>11</td>\n      <td>812</td>\n      <td>1687030276</td>\n      <td>1976</td>\n      <td>46</td>\n      <td>Distrito Federal</td>\n      <td>DF</td>\n      <td>Região Centro-Oeste</td>\n      <td>1</td>\n      <td>Menor que 1000</td>\n      <td>45 a 54</td>\n      <td>E</td>\n      <td>0.402439</td>\n    </tr>\n    <tr>\n      <th>73969</th>\n      <td>53</td>\n      <td>M</td>\n      <td>4</td>\n      <td>7</td>\n      <td>1500</td>\n      <td>1792933812</td>\n      <td>1992</td>\n      <td>30</td>\n      <td>Distrito Federal</td>\n      <td>DF</td>\n      <td>Região Centro-Oeste</td>\n      <td>1</td>\n      <td>1000 |- 1600</td>\n      <td>25 a 34</td>\n      <td>E</td>\n      <td>0.207317</td>\n    </tr>\n    <tr>\n      <th>73970</th>\n      <td>53</td>\n      <td>M</td>\n      <td>8</td>\n      <td>12</td>\n      <td>1300</td>\n      <td>1830587384</td>\n      <td>1990</td>\n      <td>32</td>\n      <td>Distrito Federal</td>\n      <td>DF</td>\n      <td>Região Centro-Oeste</td>\n      <td>1</td>\n      <td>1000 |- 1600</td>\n      <td>25 a 34</td>\n      <td>E</td>\n      <td>0.231707</td>\n    </tr>\n    <tr>\n      <th>73971</th>\n      <td>53</td>\n      <td>M</td>\n      <td>8</td>\n      <td>4</td>\n      <td>1500</td>\n      <td>1726344263</td>\n      <td>1965</td>\n      <td>57</td>\n      <td>Distrito Federal</td>\n      <td>DF</td>\n      <td>Região Centro-Oeste</td>\n      <td>1</td>\n      <td>1000 |- 1600</td>\n      <td>55 a 64</td>\n      <td>E</td>\n      <td>0.536585</td>\n    </tr>\n    <tr>\n      <th>73972</th>\n      <td>53</td>\n      <td>M</td>\n      <td>8</td>\n      <td>4</td>\n      <td>900</td>\n      <td>1658304846</td>\n      <td>1984</td>\n      <td>38</td>\n      <td>Distrito Federal</td>\n      <td>DF</td>\n      <td>Região Centro-Oeste</td>\n      <td>1</td>\n      <td>Menor que 1000</td>\n      <td>35 a 44</td>\n      <td>E</td>\n      <td>0.304878</td>\n    </tr>\n  </tbody>\n</table>\n<p>73973 rows × 16 columns</p>\n</div>"
     },
     "execution_count": 174,
     "metadata": {},
     "output_type": "execute_result"
    }
   ],
   "source": [
    "new_df"
   ],
   "metadata": {
    "collapsed": false,
    "pycharm": {
     "name": "#%%\n"
    }
   }
  }
 ],
 "metadata": {
  "kernelspec": {
   "display_name": "Python 3",
   "language": "python",
   "name": "python3"
  },
  "language_info": {
   "codemirror_mode": {
    "name": "ipython",
    "version": 2
   },
   "file_extension": ".py",
   "mimetype": "text/x-python",
   "name": "python",
   "nbconvert_exporter": "python",
   "pygments_lexer": "ipython2",
   "version": "2.7.6"
  }
 },
 "nbformat": 4,
 "nbformat_minor": 0
}